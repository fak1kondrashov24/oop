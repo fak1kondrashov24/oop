{
  "nbformat": 4,
  "nbformat_minor": 0,
  "metadata": {
    "colab": {
      "name": "ClassWork - Kondrashov Fedor, ITMO.ipynb",
      "provenance": [],
      "collapsed_sections": []
    },
    "kernelspec": {
      "name": "python3",
      "display_name": "Python 3"
    },
    "language_info": {
      "name": "python"
    }
  },
  "cells": [
    {
      "cell_type": "code",
      "source": [
        "import os.path\n",
        "import csv"
      ],
      "metadata": {
        "id": "uvjVAavrDWqR"
      },
      "execution_count": 61,
      "outputs": []
    },
    {
      "cell_type": "code",
      "source": [
        "!wget https://gist.githubusercontent.com/NooblyRand0m/404c8a252f89862654c3fa6bba3d8bc3/raw/26c97aa3876ef33f3509e3b1209402c5c138f06c/coursera_week3_cars.csv"
      ],
      "metadata": {
        "id": "lCE6kLrWL3X0"
      },
      "execution_count": null,
      "outputs": []
    },
    {
      "cell_type": "code",
      "source": [
        "csv_filename = 'coursera_week3_cars.csv'\n",
        "\n",
        "with open(csv_filename) as csv_fd:\n",
        "  reader = csv.reader(csv_fd, delimiter=';')\n",
        "  next(reader)\n",
        "  car_objects_list = []\n",
        "  for row in reader:\n",
        "    print(row)"
      ],
      "metadata": {
        "id": "NtYLnJKuYMej"
      },
      "execution_count": null,
      "outputs": []
    },
    {
      "cell_type": "code",
      "source": [
        "class CarBase:\n",
        "\n",
        "  def __init__(self, brand, photo_file_name, carrying):\n",
        "    self.brand = str(brand)\n",
        "    try:\n",
        "      self.carrying = float(carrying)\n",
        "    except:\n",
        "      raise ValueError(f\"Can't convert carrying attribute '{carrying}' into float form\")\n",
        "    self.photo_file_name = str(photo_file_name)\n",
        "    photo_file_ext = self.get_photo_file_ext()\n",
        "    if photo_file_ext not in ['.png', '.jpeg', '.jpg', '.gif']:\n",
        "      raise ValueError(\"Wrong format of file. Expected png, jpeg, jpg, gif.\")\n",
        "\n",
        "  def get_photo_file_ext(self) -> str:\n",
        "    photo_file_name = self.photo_file_name\n",
        "    photo_file_split = os.path.splitext(photo_file_name)\n",
        "    photo_file_ext = photo_file_split[1]\n",
        "    return str(photo_file_ext)\n",
        "\n",
        "\n",
        "class Car(CarBase):\n",
        "  def __init__(self, brand, photo_file_name, carrying, passenger_seats_count):\n",
        "    self.car_type = 'car'\n",
        "    super(Car, self).__init__(brand, photo_file_name, carrying)\n",
        "    try:\n",
        "      self.passenger_seats_count = int(passenger_seats_count)\n",
        "    except:\n",
        "      raise ValueError(f\"Can't convert passenger_seats_count attribute '{passenger_seats_count}' into integer format\")\n",
        "\n",
        "\n",
        "class Truck(CarBase):\n",
        "  def __init__(self, brand, photo_file_name, carrying, body_whl):\n",
        "    self.car_type = 'truck'\n",
        "    super(Truck, self).__init__(brand, photo_file_name, carrying)\n",
        "    self.body_whl = body_whl\n",
        "    self.body_length, self.body_width, self.body_height = self._get_body_size(body_whl)\n",
        "\n",
        "  def get_body_volume(self) -> int:\n",
        "    body_whl = self.body_whl\n",
        "    body_length, body_width, body_height = self._get_body_size(body_whl)\n",
        "    body_volume = body_length * body_width * body_height\n",
        "    if body_volume != 0:\n",
        "      return int(body_volume)\n",
        "    else:\n",
        "      raise ValueError(f\"Wrong format of body_whl attribute (wrong format of sizes)\")\n",
        "\n",
        "  def _get_body_size(self, body_whl) -> float:\n",
        "    size = body_whl.split('x')\n",
        "    if len(size) == 3:\n",
        "      try:\n",
        "        length = size[0]\n",
        "        width = size[1]\n",
        "        height = size[2]\n",
        "      except:\n",
        "        length, width, height = 0, 0, 0\n",
        "    else:\n",
        "      length, width, height = 0, 0, 0\n",
        "    return float(length), float(width), float(height)\n",
        "\n",
        "  \n",
        "class SpecMachine(CarBase):\n",
        "  def __init__(self, brand, photo_file_name, carrying, extra):\n",
        "    self.car_type = 'spec_machine'\n",
        "    super(SpecMachine, self).__init__(brand, photo_file_name, carrying)\n",
        "    self.extra = extra"
      ],
      "metadata": {
        "id": "0U7mhjM6MV_t"
      },
      "execution_count": 57,
      "outputs": []
    },
    {
      "cell_type": "code",
      "source": [
        "def get_car_list(csv_filename):\n",
        "  with open(csv_filename) as csv_fd:\n",
        "    reader = csv.reader(csv_fd, delimiter=';')\n",
        "    next(reader)\n",
        "    car_objects_list = []\n",
        "    for row in reader:\n",
        "      try:\n",
        "        car_type, brand, passengers_seats_count, photo_file_name, body_whl, carrying, extra \\\n",
        "        = row[0], row[1], row[2], row[3], row[4], row[5], row[6]\n",
        "        if car_type == 'car':\n",
        "          try:\n",
        "            car_object = Car(brand, photo_file_name, carrying, passengers_seats_count)\n",
        "          except:\n",
        "            raise ValueError('Something went wrong!..')\n",
        "        elif car_type == 'truck':\n",
        "          try:\n",
        "            car_object = Truck(brand, photo_file_name, carrying, body_whl)\n",
        "          except:\n",
        "            raise ValueError('Something went wrong!..')\n",
        "        elif car_type == 'spec_machine':\n",
        "          try:\n",
        "            car_object = SpecMachine(brand, photo_file_name, carrying, extra)\n",
        "          except:\n",
        "            raise ValueError('Something went wrong!..')\n",
        "        else:\n",
        "          raise ValueError('Something went wrong!..')\n",
        "        car_objects_list.append(car_object)\n",
        "      except:\n",
        "        pass\n",
        "  return car_objects_list"
      ],
      "metadata": {
        "id": "S4p1tJWNkXDp"
      },
      "execution_count": 64,
      "outputs": []
    },
    {
      "cell_type": "markdown",
      "source": [
        "# Базовые Проверки:"
      ],
      "metadata": {
        "id": "A0i4Gn4cDNJ3"
      }
    },
    {
      "cell_type": "code",
      "source": [
        "car = Car('Bugatti Veyron', 'bugatti..png', '0.312', '2')\n",
        "print(car.car_type, car.brand, car.photo_file_name, car.carrying, car.passenger_seats_count, sep='\\n')\n",
        "# car\n",
        "# Bugatti Veyron\n",
        "# bugatti.png\n",
        "# 0.312\n",
        "# 2"
      ],
      "metadata": {
        "colab": {
          "base_uri": "https://localhost:8080/"
        },
        "id": "PSG1HbsRDbBW",
        "outputId": "0b59071a-6320-499b-fffc-43a61029b955"
      },
      "execution_count": 65,
      "outputs": [
        {
          "output_type": "stream",
          "name": "stdout",
          "text": [
            "car\n",
            "Bugatti Veyron\n",
            "bugatti..png\n",
            "0.312\n",
            "2\n"
          ]
        }
      ]
    },
    {
      "cell_type": "code",
      "source": [
        "truck = Truck('Nissan', 'nissan.jpeg', '1.5', '3.92x2.09x1.87')\n",
        "print(truck.car_type, truck.brand, truck.photo_file_name, truck.body_length, truck.body_width, truck.body_height, sep='\\n')\n",
        "# truck\n",
        "# Nissan\n",
        "# nissan.jpeg\n",
        "# 3.92\n",
        "# 2.09\n",
        "# 1.87"
      ],
      "metadata": {
        "colab": {
          "base_uri": "https://localhost:8080/"
        },
        "id": "NetwD8_oDe_i",
        "outputId": "027ad73e-72df-48b1-e9c9-4bfbd59cf9ed"
      },
      "execution_count": 66,
      "outputs": [
        {
          "output_type": "stream",
          "name": "stdout",
          "text": [
            "truck\n",
            "Nissan\n",
            "nissan.jpeg\n",
            "3.92\n",
            "2.09\n",
            "1.87\n"
          ]
        }
      ]
    },
    {
      "cell_type": "code",
      "source": [
        "spec_machine = SpecMachine('Komatsu-D355', 'd355.jpg', '93', 'pipelayer specs')\n",
        "print(spec_machine.car_type, spec_machine.brand, spec_machine.carrying, spec_machine.photo_file_name, spec_machine.extra, sep='\\n')\n",
        "# spec_machine\n",
        "# Komatsu-D355\n",
        "# 93.0\n",
        "# d355.jpg\n",
        "# pipelayer specs"
      ],
      "metadata": {
        "colab": {
          "base_uri": "https://localhost:8080/"
        },
        "id": "1TewW-QTDgn4",
        "outputId": "c3f772a1-6c87-4882-8398-2ae3b4c32e81"
      },
      "execution_count": 67,
      "outputs": [
        {
          "output_type": "stream",
          "name": "stdout",
          "text": [
            "spec_machine\n",
            "Komatsu-D355\n",
            "93.0\n",
            "d355.jpg\n",
            "pipelayer specs\n"
          ]
        }
      ]
    },
    {
      "cell_type": "code",
      "source": [
        "spec_machine.get_photo_file_ext()\n",
        "# '.jpg'"
      ],
      "metadata": {
        "colab": {
          "base_uri": "https://localhost:8080/",
          "height": 36
        },
        "id": "rzIdVZ6aDiAJ",
        "outputId": "760d9c04-e5b9-4aa3-d004-e2d2dfeb4e4f"
      },
      "execution_count": 68,
      "outputs": [
        {
          "output_type": "execute_result",
          "data": {
            "text/plain": [
              "'.jpg'"
            ],
            "application/vnd.google.colaboratory.intrinsic+json": {
              "type": "string"
            }
          },
          "metadata": {},
          "execution_count": 68
        }
      ]
    },
    {
      "cell_type": "code",
      "source": [
        "cars = get_car_list('coursera_week3_cars.csv')\n",
        "len(cars)\n",
        "# 4"
      ],
      "metadata": {
        "colab": {
          "base_uri": "https://localhost:8080/"
        },
        "id": "Q4HeLLteDjj0",
        "outputId": "cabb80fd-e734-4e32-8aa3-efb60124cd4d"
      },
      "execution_count": 69,
      "outputs": [
        {
          "output_type": "execute_result",
          "data": {
            "text/plain": [
              "4"
            ]
          },
          "metadata": {},
          "execution_count": 69
        }
      ]
    },
    {
      "cell_type": "code",
      "source": [
        "cars[0].passenger_seats_count\n",
        "# 4"
      ],
      "metadata": {
        "colab": {
          "base_uri": "https://localhost:8080/"
        },
        "id": "-dc7NgwdDk-m",
        "outputId": "7f52e6a2-b7c1-4508-d035-b7f59ddc9e47"
      },
      "execution_count": 70,
      "outputs": [
        {
          "output_type": "execute_result",
          "data": {
            "text/plain": [
              "4"
            ]
          },
          "metadata": {},
          "execution_count": 70
        }
      ]
    },
    {
      "cell_type": "code",
      "source": [
        "cars[1].get_body_volume()\n",
        "# 60.0"
      ],
      "metadata": {
        "colab": {
          "base_uri": "https://localhost:8080/"
        },
        "id": "_b9HnogdDmQK",
        "outputId": "bbf19d27-ee1d-4d3c-98b6-bfff4ba25258"
      },
      "execution_count": 71,
      "outputs": [
        {
          "output_type": "execute_result",
          "data": {
            "text/plain": [
              "60"
            ]
          },
          "metadata": {},
          "execution_count": 71
        }
      ]
    }
  ]
}